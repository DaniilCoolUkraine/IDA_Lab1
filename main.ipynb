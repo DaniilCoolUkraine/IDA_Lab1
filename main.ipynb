{
 "cells": [
  {
   "cell_type": "markdown",
   "metadata": {},
   "source": [
    "# Loader Utility\n",
    "The dataset dynamically changes, so to stay always up-to-date, we are using the Python Requests package.\n",
    "\n",
    "Also, we are using Git to synchronize our progress easily, so saving and tracking the dataset would be unnecessary."
   ]
  },
  {
   "cell_type": "code",
   "execution_count": null,
   "metadata": {},
   "outputs": [],
   "source": [
    "from python.defs import get_path\n",
    "from python.utils.loader import Loader\n",
    "\n",
    "file_path = get_path()\n",
    "Loader.send_get_request(file_path)"
   ]
  },
  {
   "cell_type": "markdown",
   "metadata": {},
   "source": [
    "---\n",
    "# Reader utility\n",
    "Here we create reader instance to encapsulate dataset operating logic"
   ]
  },
  {
   "cell_type": "code",
   "execution_count": null,
   "metadata": {},
   "outputs": [],
   "source": [
    "from python.utils.csv_reader import CSV_Reader\n",
    "reader = CSV_Reader(file_path, 'nba.csv')"
   ]
  },
  {
   "cell_type": "markdown",
   "metadata": {},
   "source": [
    "Some functionality example:"
   ]
  },
  {
   "cell_type": "code",
   "execution_count": null,
   "metadata": {},
   "outputs": [],
   "source": [
    "reader.get_dataset_head()"
   ]
  },
  {
   "cell_type": "code",
   "execution_count": null,
   "metadata": {},
   "outputs": [],
   "source": [
    "reader.get_types()"
   ]
  },
  {
   "cell_type": "code",
   "execution_count": null,
   "metadata": {},
   "outputs": [],
   "source": [
    "reader.get_dataset_statistic()"
   ]
  },
  {
   "cell_type": "code",
   "execution_count": null,
   "metadata": {},
   "outputs": [],
   "source": [
    "reader.get_column_values(\"date_game\")"
   ]
  },
  {
   "cell_type": "code",
   "execution_count": null,
   "metadata": {},
   "outputs": [],
   "source": [
    "reader.get_column_values(\"team_id\")"
   ]
  },
  {
   "cell_type": "code",
   "execution_count": null,
   "metadata": {},
   "outputs": [],
   "source": [
    "reader.get_nulls_count()"
   ]
  },
  {
   "cell_type": "code",
   "execution_count": null,
   "metadata": {},
   "outputs": [],
   "source": [
    "reader.get_nulls_count_in_column(\"notes\")"
   ]
  },
  {
   "cell_type": "code",
   "execution_count": null,
   "metadata": {},
   "outputs": [],
   "source": [
    "reader.get_nulls_count_in_column(\"team_id\")"
   ]
  },
  {
   "cell_type": "markdown",
   "metadata": {},
   "source": [
    "Lets delete unused and null/nan colums:"
   ]
  },
  {
   "cell_type": "code",
   "execution_count": null,
   "metadata": {},
   "outputs": [],
   "source": [
    "reader.delete_column(\"notes\")\n",
    "reader.get_dataset_head()"
   ]
  },
  {
   "cell_type": "markdown",
   "metadata": {},
   "source": [
    "Rename some columns to clarify their purpose"
   ]
  },
  {
   "cell_type": "code",
   "execution_count": null,
   "metadata": {},
   "outputs": [],
   "source": [
    "reader.rename_column(\"seasongame\", \"season_game\")\n",
    "reader.rename_column(\"pts\", \"points\")\n",
    "reader.rename_column(\"_iscopy\", \"is_copy\")\n",
    "reader.rename_column(\"lg_id\", \"league_id\")\n",
    "reader.rename_column(\"fran_id\", \"franchise_id\")\n",
    "reader.get_dataset_head()"
   ]
  },
  {
   "cell_type": "markdown",
   "metadata": {},
   "source": [
    "And lets add some other cleaning and data preparation methods:"
   ]
  },
  {
   "cell_type": "code",
   "execution_count": null,
   "metadata": {},
   "outputs": [],
   "source": [
    "reader.change_data_type(\"is_copy\", \"bool\")\n",
    "reader.get_types()"
   ]
  },
  {
   "cell_type": "code",
   "execution_count": null,
   "metadata": {},
   "outputs": [],
   "source": [
    "old_shape = reader.get_table_shape()\n",
    "reader.delete_duplicates()\n",
    "\n",
    "if old_shape == reader.get_table_shape():\n",
    "\t\tprint(f\"There are no duplicates in the table\")\n",
    "else:\n",
    "\t\tprint(f\"Duplicates successfully deleted\")\n",
    "print(\"Old shape:\", old_shape)\n",
    "print(\"Current shape:\", reader.get_table_shape())"
   ]
  },
  {
   "cell_type": "code",
   "execution_count": null,
   "metadata": {},
   "outputs": [],
   "source": [
    "reader.check_for_outliers_in_column(\"points\")"
   ]
  },
  {
   "cell_type": "code",
   "execution_count": null,
   "metadata": {},
   "outputs": [],
   "source": [
    "reader.delete_outliers('points')\n",
    "reader.get_dataset_head()"
   ]
  },
  {
   "cell_type": "markdown",
   "metadata": {},
   "source": [
    "Finaly, lets save proceeded data to file"
   ]
  },
  {
   "cell_type": "code",
   "execution_count": null,
   "metadata": {},
   "outputs": [],
   "source": [
    "reader.save_to_file('cleaned_dataset.csv')"
   ]
  },
  {
   "cell_type": "code",
   "execution_count": null,
   "metadata": {},
   "outputs": [],
   "source": [
    "reader = CSV_Reader(file_path, 'cleaned_dataset.csv')\n",
    "reader.get_dataset_head()"
   ]
  },
  {
   "cell_type": "markdown",
   "metadata": {},
   "source": [
    "---\n",
    "# Data visualization\n",
    "\n",
    "After data proceeding, lets see how it looks"
   ]
  },
  {
   "cell_type": "code",
   "execution_count": null,
   "metadata": {},
   "outputs": [],
   "source": [
    "nba = reader.get_dataset()\n",
    "nba[\"franchise_id\"].value_counts().head(20).plot(kind=\"bar\")"
   ]
  },
  {
   "cell_type": "code",
   "execution_count": null,
   "metadata": {},
   "outputs": [],
   "source": [
    "nba[nba[\"franchise_id\"] == \"Lakers\"].groupby(\"year_id\")[\"points\"].sum().plot()\n",
    "# nba[nba[\"franchise_id\"] == \"Celtics\"].groupby(\"year_id\")[\"points\"].sum().plot()\n",
    "# nba[nba[\"franchise_id\"] == \"Warriors\"].groupby(\"year_id\")[\"points\"].sum().plot()\n",
    "# nba[nba[\"franchise_id\"] == \"Nets\"].groupby(\"year_id\")[\"points\"].sum().plot()"
   ]
  },
  {
   "cell_type": "code",
   "execution_count": null,
   "metadata": {},
   "outputs": [],
   "source": [
    "import matplotlib.pyplot as plt\n",
    "\n",
    "nba[nba[\"franchise_id\"] == \"Lakers\"].groupby(\"year_id\")[\"points\"].sum().plot()\n",
    "nba[nba[\"franchise_id\"] == \"Celtics\"].groupby(\"year_id\")[\"points\"].sum().plot()\n",
    "nba[nba[\"franchise_id\"] == \"Warriors\"].groupby(\"year_id\")[\"points\"].sum().plot()\n",
    "nba[nba[\"franchise_id\"] == \"Nets\"].groupby(\"year_id\")[\"points\"].sum().plot()\n",
    "\n",
    "all_teams_data = nba.groupby([\"year_id\", \"franchise_id\"])[\"points\"].sum().unstack()\n",
    "mean_points = all_teams_data.mean(axis=1)\n",
    "median_points = all_teams_data.median(axis=1)\n",
    "\n",
    "plt.axhline(median_points.median(), color='red', linestyle='--')\n",
    "plt.axhline(mean_points.mean(), color='green', linestyle='-')"
   ]
  },
  {
   "cell_type": "code",
   "execution_count": null,
   "metadata": {},
   "outputs": [],
   "source": [
    "import matplotlib.pyplot as plt\n",
    "\n",
    "year_id = 1999\n",
    "\n",
    "lakers_data = nba[(nba[\"franchise_id\"] == \"Lakers\") & (nba[\"year_id\"] == year_id)]\n",
    "celtics_data = nba[(nba[\"franchise_id\"] == \"Celtics\") & (nba[\"year_id\"] == year_id)]\n",
    "warriors_data = nba[(nba[\"franchise_id\"] == \"Warriors\") & (nba[\"year_id\"] == year_id)]\n",
    "nets_data = nba[(nba[\"franchise_id\"] == \"Nets\") & (nba[\"year_id\"] == year_id)]\n",
    "\n",
    "plt.subplot(2, 2, 1)\n",
    "lakers_data[\"game_result\"].value_counts().plot(kind=\"pie\")\n",
    "plt.title(\"Lakers Game Result\")\n",
    "\n",
    "plt.subplot(2, 2, 2)\n",
    "celtics_data[\"game_result\"].value_counts().plot(kind=\"pie\")\n",
    "plt.title(\"Celtics Game Result\")\n",
    "\n",
    "plt.subplot(2, 2, 3)\n",
    "warriors_data[\"game_result\"].value_counts().plot(kind=\"pie\")\n",
    "plt.title(\"Warriors Game Result\")\n",
    "\n",
    "plt.subplot(2, 2, 4)\n",
    "nets_data[\"game_result\"].value_counts().plot(kind=\"pie\")\n",
    "plt.title(\"Nets Game Result\")"
   ]
  },
  {
   "cell_type": "markdown",
   "metadata": {},
   "source": [
    "Now lets use seaborn lib to create other graphics"
   ]
  },
  {
   "cell_type": "code",
   "execution_count": null,
   "metadata": {},
   "outputs": [],
   "source": [
    "import seaborn as sns\n",
    "import matplotlib.pyplot as plt\n",
    "\n",
    "heatmap_data = nba.head(50000).pivot_table(index='game_location', columns='game_result', values='points', aggfunc='median')\n",
    "\n",
    "sns.heatmap(heatmap_data, cmap='coolwarm', annot=True, fmt=\".1f\")"
   ]
  },
  {
   "cell_type": "code",
   "execution_count": null,
   "metadata": {},
   "outputs": [],
   "source": [
    "columns_to_include = [\n",
    "    'points', 'win_equiv'\n",
    "]\n",
    "\n",
    "# Subset your DataFrame to include only the selected columns\n",
    "subset_df = nba[columns_to_include]\n",
    "\n",
    "# Create a pairplot\n",
    "sns.pairplot(subset_df, diag_kind='hist', markers='o')"
   ]
  },
  {
   "cell_type": "code",
   "execution_count": null,
   "metadata": {},
   "outputs": [],
   "source": [
    "sns.boxplot(x='franchise_id', y='points', data = nba.head(100))\n",
    "\n",
    "plt.xlabel('Franchise')\n",
    "plt.ylabel('Points')\n",
    "plt.title('Boxplot of Points by Franchise')"
   ]
  }
 ],
 "metadata": {
  "kernelspec": {
   "display_name": "Python 3",
   "language": "python",
   "name": "python3"
  },
  "language_info": {
   "codemirror_mode": {
    "name": "ipython",
    "version": 3
   },
   "file_extension": ".py",
   "mimetype": "text/x-python",
   "name": "python",
   "nbconvert_exporter": "python",
   "pygments_lexer": "ipython3",
   "version": "3.11.3"
  },
  "orig_nbformat": 4
 },
 "nbformat": 4,
 "nbformat_minor": 2
}
